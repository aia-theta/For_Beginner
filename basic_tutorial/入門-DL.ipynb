{
 "cells": [
  {
   "cell_type": "markdown",
   "metadata": {},
   "source": [
    "# 名詞\n",
    "\n",
    "## model\n",
    "* DNN 深度身經網路\n",
    "* CNN 捲積神經網路\n",
    "* RNN 遞歸神經網絡\n",
    "* GAN 生成對抗網路\n",
    "\n",
    "## task\n",
    "* classification\n",
    "* predictive maintenance\n",
    "* object detection\n",
    "* regression\n",
    "* parameter control\n",
    "* denoise"
   ]
  },
  {
   "cell_type": "markdown",
   "metadata": {},
   "source": [
    "# layer\n",
    "\n",
    "## trainable\n",
    "* dense\n",
    "* convolution\n",
    "* deconvolution\n",
    "* RNN\n",
    "    * LSTM\n",
    "\n",
    "## other\n",
    "* batch normalization\n",
    "* pooling\n",
    "    * max pooling\n",
    "    * average pooling\n",
    "* dropout\n",
    "* padding"
   ]
  },
  {
   "cell_type": "markdown",
   "metadata": {},
   "source": [
    "# activation function\n",
    "\n",
    "* relu (小於0 => 0)\n",
    "```python\n",
    "def relu(x):\n",
    "    return max(x, 0)\n",
    "```\n",
    "    * leaky relu\n",
    "    ```python\n",
    "    def leaky_relu(x, alpha):\n",
    "        return x if x > 0 else x*alpha\n",
    "    ```\n",
    "    * prelu\n",
    "    ```python\n",
    "    # alpha is trainable\n",
    "    def prelu(x, alpha):\n",
    "        return x if x > 0 else x*alpha\n",
    "    ```\n",
    "    * selu\n",
    "    [自己看](https://arxiv.org/pdf/1706.02515.pdf)\n",
    "* sigmoid (0~1)\n",
    "```python\n",
    "def sigmoid(x):\n",
    "    return 1/(1+math.exp(-x))\n",
    "```\n",
    "* tanh (-1~1)\n",
    "```python\n",
    "def tanh(x):\n",
    "    return (math.exp(x)-math.exp(-x))/(math.exp(x)+math.exp(-x))\n",
    "```\n",
    "* softmax (加總為1)\n",
    "```python\n",
    "def softmax(x):\n",
    "    x = [math.exp(i) for i in x]\n",
    "    sum_x = sum(x)\n",
    "    return [i/sum_x for i in x]\n",
    "```"
   ]
  },
  {
   "cell_type": "markdown",
   "metadata": {},
   "source": [
    "# model structure\n",
    "\n",
    "* resnet\n",
    "    * resnet v2\n",
    "    * resnext\n",
    "* VGG\n",
    "* densenet\n",
    "* DPN\n",
    "* U/W net"
   ]
  },
  {
   "cell_type": "code",
   "execution_count": null,
   "metadata": {
    "collapsed": true
   },
   "outputs": [],
   "source": []
  }
 ],
 "metadata": {
  "kernelspec": {
   "display_name": "Python 3",
   "language": "python",
   "name": "python3"
  },
  "language_info": {
   "codemirror_mode": {
    "name": "ipython",
    "version": 3
   },
   "file_extension": ".py",
   "mimetype": "text/x-python",
   "name": "python",
   "nbconvert_exporter": "python",
   "pygments_lexer": "ipython3",
   "version": "3.5.2"
  }
 },
 "nbformat": 4,
 "nbformat_minor": 2
}
